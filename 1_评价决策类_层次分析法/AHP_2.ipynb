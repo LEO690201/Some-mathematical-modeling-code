{
 "cells": [
  {
   "cell_type": "code",
   "execution_count": 1,
   "metadata": {},
   "outputs": [
    {
     "name": "stdout",
     "output_type": "stream",
     "text": [
      "请输入准则层的判断矩阵:\n"
     ]
    },
    {
     "name": "stderr",
     "output_type": "stream",
     "text": [
      "d:\\download\\anaconda\\anaconda\\lib\\site-packages\\ipykernel_launcher.py:27: RuntimeWarning: invalid value encountered in double_scalars\n"
     ]
    },
    {
     "name": "stdout",
     "output_type": "stream",
     "text": [
      "请输入 准则1 的判断矩阵:\n"
     ]
    },
    {
     "ename": "ValueError",
     "evalue": "could not convert string to float: ",
     "output_type": "error",
     "traceback": [
      "\u001b[1;31m---------------------------------------------------------------------------\u001b[0m",
      "\u001b[1;31mValueError\u001b[0m                                Traceback (most recent call last)",
      "\u001b[1;32m<ipython-input-1-3161b5e25525>\u001b[0m in \u001b[0;36m<module>\u001b[1;34m()\u001b[0m\n\u001b[0;32m     54\u001b[0m     \u001b[0mcriteria_name\u001b[0m \u001b[1;33m=\u001b[0m \u001b[1;34mf\"准则{i+1}\"\u001b[0m\u001b[1;33m\u001b[0m\u001b[0m\n\u001b[0;32m     55\u001b[0m     \u001b[0mprint\u001b[0m\u001b[1;33m(\u001b[0m\u001b[1;34mf\"请输入 {criteria_name} 的判断矩阵:\"\u001b[0m\u001b[1;33m)\u001b[0m\u001b[1;33m\u001b[0m\u001b[0m\n\u001b[1;32m---> 56\u001b[1;33m     \u001b[0mmatrix\u001b[0m \u001b[1;33m=\u001b[0m \u001b[0msubjective_judgement_matrix\u001b[0m\u001b[1;33m(\u001b[0m\u001b[0mnum_alternatives\u001b[0m\u001b[1;33m,\u001b[0m \u001b[0mcriteria_name\u001b[0m\u001b[1;33m)\u001b[0m\u001b[1;33m\u001b[0m\u001b[0m\n\u001b[0m\u001b[0;32m     57\u001b[0m     \u001b[0mweights\u001b[0m\u001b[1;33m,\u001b[0m \u001b[0mmax_eigval\u001b[0m \u001b[1;33m=\u001b[0m \u001b[0mcompute_weights\u001b[0m\u001b[1;33m(\u001b[0m\u001b[0mmatrix\u001b[0m\u001b[1;33m)\u001b[0m\u001b[1;33m\u001b[0m\u001b[0m\n\u001b[0;32m     58\u001b[0m     \u001b[0mCR\u001b[0m \u001b[1;33m=\u001b[0m \u001b[0mconsistency_ratio\u001b[0m\u001b[1;33m(\u001b[0m\u001b[0mmatrix\u001b[0m\u001b[1;33m,\u001b[0m \u001b[0mmax_eigval\u001b[0m\u001b[1;33m)\u001b[0m\u001b[1;33m\u001b[0m\u001b[0m\n",
      "\u001b[1;32m<ipython-input-1-3161b5e25525>\u001b[0m in \u001b[0;36msubjective_judgement_matrix\u001b[1;34m(size, matrix_name)\u001b[0m\n\u001b[0;32m      7\u001b[0m     \u001b[1;32mfor\u001b[0m \u001b[0mi\u001b[0m \u001b[1;32min\u001b[0m \u001b[0mrange\u001b[0m\u001b[1;33m(\u001b[0m\u001b[0msize\u001b[0m\u001b[1;33m)\u001b[0m\u001b[1;33m:\u001b[0m\u001b[1;33m\u001b[0m\u001b[0m\n\u001b[0;32m      8\u001b[0m         \u001b[1;32mfor\u001b[0m \u001b[0mj\u001b[0m \u001b[1;32min\u001b[0m \u001b[0mrange\u001b[0m\u001b[1;33m(\u001b[0m\u001b[0mi\u001b[0m\u001b[1;33m+\u001b[0m\u001b[1;36m1\u001b[0m\u001b[1;33m,\u001b[0m \u001b[0msize\u001b[0m\u001b[1;33m)\u001b[0m\u001b[1;33m:\u001b[0m\u001b[1;33m\u001b[0m\u001b[0m\n\u001b[1;32m----> 9\u001b[1;33m             \u001b[0mvalue\u001b[0m \u001b[1;33m=\u001b[0m \u001b[0mfloat\u001b[0m\u001b[1;33m(\u001b[0m\u001b[0minput\u001b[0m\u001b[1;33m(\u001b[0m\u001b[1;34mf\"请输入 {matrix_name} 第 {i+1} 项与第 {j+1} 项的比较值: \"\u001b[0m\u001b[1;33m)\u001b[0m\u001b[1;33m)\u001b[0m\u001b[1;33m\u001b[0m\u001b[0m\n\u001b[0m\u001b[0;32m     10\u001b[0m             \u001b[0mmatrix\u001b[0m\u001b[1;33m[\u001b[0m\u001b[0mi\u001b[0m\u001b[1;33m,\u001b[0m \u001b[0mj\u001b[0m\u001b[1;33m]\u001b[0m \u001b[1;33m=\u001b[0m \u001b[0mvalue\u001b[0m\u001b[1;33m\u001b[0m\u001b[0m\n\u001b[0;32m     11\u001b[0m             \u001b[0mmatrix\u001b[0m\u001b[1;33m[\u001b[0m\u001b[0mj\u001b[0m\u001b[1;33m,\u001b[0m \u001b[0mi\u001b[0m\u001b[1;33m]\u001b[0m \u001b[1;33m=\u001b[0m \u001b[1;36m1\u001b[0m \u001b[1;33m/\u001b[0m \u001b[0mvalue\u001b[0m\u001b[1;33m\u001b[0m\u001b[0m\n",
      "\u001b[1;31mValueError\u001b[0m: could not convert string to float: "
     ]
    }
   ],
   "source": [
    "import numpy as np\n",
    "import pandas as pd\n",
    " \n",
    "# 定义主观判断矩阵\n",
    "def subjective_judgement_matrix(size, matrix_name=\"\"):\n",
    "    matrix = np.ones((size, size))\n",
    "    for i in range(size):\n",
    "        for j in range(i+1, size):\n",
    "            value = float(input(f\"请输入 {matrix_name} 第 {i+1} 项与第 {j+1} 项的比较值: \"))\n",
    "            matrix[i, j] = value\n",
    "            matrix[j, i] = 1 / value\n",
    "    return matrix\n",
    " \n",
    "# 计算权重向量\n",
    "def compute_weights(matrix):\n",
    "    eigvals, eigvecs = np.linalg.eig(matrix)\n",
    "    max_eigval = np.max(eigvals)\n",
    "    eigvec = eigvecs[:, np.argmax(eigvals)]\n",
    "    weights = np.real(eigvec / np.sum(eigvec))\n",
    "    return weights, max_eigval\n",
    " \n",
    "# 一致性检验\n",
    "def consistency_ratio(matrix, max_eigval):\n",
    "    n = matrix.shape[0]\n",
    "    CI = (np.real(max_eigval) - n) / (n - 1)\n",
    "    RI = [0, 0, 0.58, 0.9, 1.12, 1.24, 1.32, 1.41, 1.45, 1.49, 1.51, 1.54, 1.56]\n",
    "    CR = CI / RI[n-1]\n",
    "    return CR\n",
    " \n",
    "# 综合评价\n",
    "def overall_evaluation(criteria_weights_vector, criteria_weights):\n",
    "    alternative_weights_matrix = np.array(list(criteria_weights.values())).T\n",
    "    overall_scores = np.dot(alternative_weights_matrix, criteria_weights_vector)\n",
    "    return overall_scores\n",
    " \n",
    "# 输入方案数量和准则数量\n",
    "num_alternatives = int(input(\"请输入方案的数量: \"))\n",
    "num_criteria = int(input(\"请输入准则的数量: \"))\n",
    " \n",
    "# 输入准则层判断矩阵\n",
    "print(\"请输入准则层的判断矩阵:\")\n",
    "criteria_matrix = subjective_judgement_matrix(num_criteria, \"准则层\")\n",
    " \n",
    "# 计算准则层的权重向量\n",
    "criteria_weights_vector, criteria_max_eigval = compute_weights(criteria_matrix)\n",
    "criteria_CR = consistency_ratio(criteria_matrix, criteria_max_eigval)\n",
    "if criteria_CR >= 0.1:\n",
    "    raise ValueError(f\"准则层判断矩阵的一致性比率过高: {criteria_CR}\")\n",
    " \n",
    "# 输入各准则下的判断矩阵并计算权重向量\n",
    "criteria_matrices = {}\n",
    "criteria_weights = {}\n",
    "for i in range(num_criteria):\n",
    "    criteria_name = f\"准则{i+1}\"\n",
    "    print(f\"请输入 {criteria_name} 的判断矩阵:\")\n",
    "    matrix = subjective_judgement_matrix(num_alternatives, criteria_name)\n",
    "    weights, max_eigval = compute_weights(matrix)\n",
    "    CR = consistency_ratio(matrix, max_eigval)\n",
    "    if CR < 0.1:\n",
    "        criteria_matrices[criteria_name] = matrix\n",
    "        criteria_weights[criteria_name] = weights\n",
    "    else:\n",
    "        raise ValueError(f\"{criteria_name} 的一致性比率过高: {CR}\")\n",
    " \n",
    "# 计算每个方案的综合得分\n",
    "overall_scores = overall_evaluation(criteria_weights_vector, criteria_weights)\n",
    " \n",
    "# 输出结果\n",
    "print(\"方案得分：\", overall_scores)\n",
    "print(\"层次决策模型：\", criteria_weights_vector)\n",
    "print(\"判断矩阵汇总结果：\", criteria_matrices)\n",
    "print(\"方案层判断矩阵汇总结果：\", criteria_weights)\n",
    " \n",
    "# 显示每个方案在每个指标下的得分\n",
    "alternative_scores = {criteria: criteria_weights[criteria] for criteria in criteria_weights}\n",
    "print(\"每个方案在每个指标下的得分：\", alternative_scores)"
   ]
  }
 ],
 "metadata": {
  "kernelspec": {
   "display_name": "base",
   "language": "python",
   "name": "python3"
  },
  "language_info": {
   "codemirror_mode": {
    "name": "ipython",
    "version": 3
   },
   "file_extension": ".py",
   "mimetype": "text/x-python",
   "name": "python",
   "nbconvert_exporter": "python",
   "pygments_lexer": "ipython3",
   "version": "3.6.5"
  }
 },
 "nbformat": 4,
 "nbformat_minor": 2
}
