{
 "cells": [
  {
   "cell_type": "markdown",
   "metadata": {},
   "source": [
    "#### 1.一致性检验\n"
   ]
  },
  {
   "cell_type": "code",
   "execution_count": 13,
   "metadata": {},
   "outputs": [
    {
     "name": "stdout",
     "output_type": "stream",
     "text": [
      "一致性指数CI= (0.03761001273071566+0j)\n",
      "一致性比例CR= (0.04225844127046704+0j)\n",
      "由于CR<0.1,因此决策类是一致的\n"
     ]
    }
   ],
   "source": [
    "import numpy as np\n",
    "\n",
    "#A=np.array([[1,2,3,5],[1/2,1,1/2,2],[1/3,2,1,1/2],[1/5,1/2,2,1]])\n",
    "#A=np.array([[1,2,3,5],[1/2,1,1/2,2],[1/3,2,1,2],[1/5,1/2,1/2,1]])\n",
    "A=np.array([[1,2,3,5],[1/2,1,1/2,2],[1/3,2,1,2],[1/5,1/2,1/2,1]])#(修改)\n",
    "n=A.shape[0]    #获取A的行,0变为1则是获取A的列,shape是获取形状信息\n",
    "n\n",
    "#求出最大特征值,以及对应的特征向量,\n",
    "# #np.linalg.eig()函数返回的是特征值和特征向量组成的元组\n",
    "#eig_val是特征值,eig_vec是特征向量\n",
    "eig_val,eig_vec=np.linalg.eig(A)     #求出特征值和特征向量\n",
    "Max_eig=max(eig_val)    #求出最大特征值\n",
    "eig_val\n",
    "CI=(Max_eig-n)/(n-1)\n",
    "RI=[0,0.0001,0.52,0.89,1.12,1.26,1.36,1.41,1.46,1.49,1.52,1.54,1.56,1.58,1.59]\n",
    "#注意:n=15最多\n",
    "\n",
    "CR=CI/RI[n-1]    #数组,与matlab不同,matlab是CR=CI/RI[n]\n",
    "\n",
    "print('一致性指数CI=',CI)\n",
    "print('一致性比例CR=',CR)\n",
    "\n",
    "if CR<0.1:\n",
    "    print('由于CR<0.1,因此决策类是一致的')\n",
    "else:\n",
    "    print('由于CR>=0.1,因此决策类是不一致的')"
   ]
  },
  {
   "cell_type": "markdown",
   "metadata": {},
   "source": [
    "- 算术平均法计算权重"
   ]
  },
  {
   "cell_type": "code",
   "execution_count": 9,
   "metadata": {},
   "outputs": [
    {
     "name": "stdout",
     "output_type": "stream",
     "text": [
      "[0.48885991 0.18192996 0.2318927  0.09731744]\n"
     ]
    }
   ],
   "source": [
    "import numpy as np\n",
    "\n",
    "#定义判断矩阵A\n",
    "A=np.array([[1,2,3,5],[1/2,1,1/2,2],[1/3,2,1,2],[1/5,1/2,1/2,1]])\n",
    "\n",
    "#计算每一列之和\n",
    "#np.sum函数可以计算一维数组中所有元素之和\n",
    "#还可以通过指定axis参数来指定对行还是列进行求和,axis=0表示按列求和,axis=1表示按行求和\n",
    "Asum=np.sum(A,axis=0)\n",
    "\n",
    "#获取A的行和列\n",
    "n=A.shape[0]\n",
    "\n",
    "#归一化,二维数组除以一维数组,会自动将一维数组扩展为与二维数组相同形状,然后逐元素进行除法\n",
    "Stand_A=A/Asum\n",
    "\n",
    "#各列相加到同一行\n",
    "Asumr=np.sum(Stand_A,axis=1)\n",
    "\n",
    "#计算权重向量\n",
    "weights=Asumr/n\n",
    "print(weights)"
   ]
  },
  {
   "cell_type": "markdown",
   "metadata": {},
   "source": [
    "- 几何平均法计算权重"
   ]
  },
  {
   "cell_type": "code",
   "execution_count": 12,
   "metadata": {},
   "outputs": [
    {
     "name": "stdout",
     "output_type": "stream",
     "text": [
      "[0.49492567 0.17782883 0.22724501 0.1000005 ]\n"
     ]
    }
   ],
   "source": [
    "import numpy as np\n",
    "\n",
    "#定义判断矩阵A\n",
    "A=np.array([[1,2,3,5],[1/2,1,1/2,2],[1/3,2,1,2],[1/5,1/2,1/2,1]])\n",
    "\n",
    "#计算每一列之积\n",
    "#np.prod()函数可以计算一维数组中所有元素之和\n",
    "#还可以通过指定axis参数来指定对行还是列进行求积,axis=0表示按列求和,axis=1表示按行求和\n",
    "prod_A=np.prod(A,axis=1)\n",
    "\n",
    "#获取A的行和列\n",
    "n=A.shape[0]\n",
    "\n",
    "#将新的向量的每个分量开n次方,\n",
    "#np.power()函数可以对数组中的元素进行开n次方运算\n",
    "#例如:np.power(3,2)等于9\n",
    "prod_n_A=np.power(prod_A,1/n)\n",
    "\n",
    "#归一化处理\n",
    "re_prod_A=prod_n_A/np.sum(prod_n_A)\n",
    "\n",
    "#输出结果\n",
    "print(re_prod_A)"
   ]
  },
  {
   "cell_type": "markdown",
   "metadata": {},
   "source": [
    "- 特征值法计算权重"
   ]
  },
  {
   "cell_type": "code",
   "execution_count": 14,
   "metadata": {},
   "outputs": [
    {
     "name": "stdout",
     "output_type": "stream",
     "text": [
      "权重: [0.4933895 +0.j 0.17884562+0.j 0.230339  +0.j 0.09742588+0.j]\n"
     ]
    }
   ],
   "source": [
    "import numpy as np\n",
    "\n",
    "#定义判断矩阵A\n",
    "A=np.array([[1,2,3,5],[1/2,1,1/2,2],[1/3,2,1,2],[1/5,1/2,1/2,1]])\n",
    "\n",
    "\n",
    "#获取A的行和列\n",
    "n=A.shape[0]\n",
    "\n",
    "eig_val,eig_vec=np.linalg.eig(A)     #求出特征值和特征向量\n",
    "\n",
    "#找出最大的特征值索引,\n",
    "#np.argmax()返回最大值索引,np.argsort()返回排序后的索引\n",
    "max_index=np.argmax(eig_val)\n",
    "\n",
    "#跟据最大特征值索引,求出对应的特征向量\n",
    "max_vec=eig_vec[:,max_index]\n",
    "\n",
    "#对特征向量进行归一化处理,得到权重\n",
    "weights=max_vec/np.sum(max_vec)\n",
    "\n",
    "#输出权重\n",
    "print(\"权重:\",weights)"
   ]
  },
  {
   "cell_type": "markdown",
   "metadata": {},
   "source": [
    "##### 新函数:\n",
    "- `n=A.shape[0]`    \n",
    "\n",
    "#获取A的行,0变为1则是获取A的列,shape是获取形状信息\n",
    "- `np.linalg.eig()`函数返回的是特征值和特征向量组成的元组\n",
    "\n",
    "eig_val是特征值,eig_vec是特征向量\n",
    "\n",
    "- np.sum函数可以计算一维数组中所有元素之和\n",
    "\n",
    "#还可以通过指定axis参数来指定对行还是列进行求和,axis=0表示按列求和,axis=1表示按行求和\n",
    "\n",
    "`Asum=np.sum(A,axis=0)`\n",
    "\n",
    "- np.prod()函数可以计算一维数组中所有元素之和\n",
    "\n",
    "#还可以通过指定axis参数来指定对行还是列进行求积,axis=0表示按列求和,axis=1表示按行求和\n",
    "\n",
    "`prod_A=np.prod(A,axis=1)`\n",
    "\n",
    "- np.power()函数可以对数组中的元素进行开n次方运算\n",
    "\n",
    "#例如:`np.power(3,2)`等于9\n",
    "\n",
    "- `np.argmax()`返回最大值索引,np.argsort()返回排序后的索引\n",
    "`max_index=np.argmax(eig_val)`\n"
   ]
  }
 ],
 "metadata": {
  "kernelspec": {
   "display_name": "base",
   "language": "python",
   "name": "python3"
  },
  "language_info": {
   "codemirror_mode": {
    "name": "ipython",
    "version": 3
   },
   "file_extension": ".py",
   "mimetype": "text/x-python",
   "name": "python",
   "nbconvert_exporter": "python",
   "pygments_lexer": "ipython3",
   "version": "3.6.5"
  }
 },
 "nbformat": 4,
 "nbformat_minor": 2
}
