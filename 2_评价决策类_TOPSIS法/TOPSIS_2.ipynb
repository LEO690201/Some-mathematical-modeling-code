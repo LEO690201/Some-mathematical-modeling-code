{
 "cells": [
  {
   "cell_type": "code",
   "execution_count": 6,
   "metadata": {},
   "outputs": [
    {
     "data": {
      "image/png": "[encoded data removed]",
      "text/plain": [
       "<Figure size 864x576 with 1 Axes>"
      ]
     },
     "metadata": {},
     "output_type": "display_data"
    },
    {
     "name": "stdout",
     "output_type": "stream",
     "text": [
      "数据已处理并保存至: processed_data_with_topsis.xlsx\n",
      "条形图已保存至 topsis_scores.png\n",
      "权重是：\n",
      "9: 0.2\n",
      "10: 0.2\n",
      "175: 0.2\n",
      "120: 0.2\n",
      "TOPSIS_Score: 0.2\n"
     ]
    }
   ],
   "source": [
    "import pandas as pd\n",
    "import numpy as np\n",
    "import matplotlib.pyplot as plt\n",
    " \n",
    "# 从Excel文件中读取数据\n",
    "file_path = r\"D:\\vscode\\code\\数学建模算法\\2_评价决策类_TOPSIS法\\processed_data_with_topsis.xlsx\"\n",
    "data = pd.read_excel(file_path)\n",
    " \n",
    "# 数据标准化为极大型指标\n",
    "def standardize_data(df, min_columns):\n",
    "    for column in df.columns:\n",
    "        max_val = df[column].max()\n",
    "        min_val = df[column].min()\n",
    "        if column in min_columns:  # 极小型指标\n",
    "            df[column] = (max_val - df[column]) / (max_val - min_val)\n",
    "        else:  # 极大型指标\n",
    "            df[column] = (df[column] - min_val) / (max_val - min_val)\n",
    "    return df\n",
    " \n",
    "# 计算熵权\n",
    "def calculate_entropy_weights(df):\n",
    "    prob_matrix = df.div(df.sum(axis=0), axis=1)\n",
    "    entropy = -np.sum(prob_matrix * np.log(prob_matrix + np.finfo(float).eps), axis=0) / np.log(len(df))\n",
    "    weights = (1 - entropy) / (1 - entropy).sum()\n",
    "    return weights\n",
    " \n",
    "# 执行TOPSIS算法\n",
    "def topsis(df, weights):\n",
    "    normalized_df = df.div(np.sqrt((df ** 2).sum(axis=0)), axis=1)\n",
    "    weighted_normalized_df = normalized_df.mul(weights, axis=1)\n",
    "    ideal_best = weighted_normalized_df.max()\n",
    "    ideal_worst = weighted_normalized_df.min()\n",
    "    distance_to_best = np.sqrt(((weighted_normalized_df - ideal_best) ** 2).sum(axis=1))\n",
    "    distance_to_worst = np.sqrt(((weighted_normalized_df - ideal_worst) ** 2).sum(axis=1))\n",
    "    relative_closeness = distance_to_worst / (distance_to_best + distance_to_worst)\n",
    "    return relative_closeness\n",
    " \n",
    "# 从用户输入中获取极小型指标的列索引\n",
    "min_columns_input = input(\"请输入极小型指标的列索引，用空格分隔: \").split()\n",
    "min_columns_index = [int(i) for i in min_columns_input]  # 将输入的列索引直接使用\n",
    " \n",
    "# 根据索引获取极小型指标的列名\n",
    "min_columns = [data.columns[i-1] for i in min_columns_index]\n",
    " \n",
    "# 主流程\n",
    "standardized_data = standardize_data(data.copy(), min_columns)\n",
    "weights = calculate_entropy_weights(standardized_data)\n",
    " \n",
    "# 确保所有列的权重都被计算\n",
    "weights_series = pd.Series(weights, index=standardized_data.columns)\n",
    " \n",
    "topsis_scores = topsis(standardized_data, weights)\n",
    " \n",
    "# 添加TOPSIS得分到原始数据\n",
    "data['TOPSIS_Score'] = topsis_scores\n",
    " \n",
    "# 保存结果\n",
    "output_path = 'processed_data_with_topsis.xlsx'\n",
    "data.to_excel(output_path, index=False)\n",
    " \n",
    "# 可视化\n",
    "plt.figure(figsize=(12, 8))\n",
    "plt.bar(range(1, len(data) + 1), data['TOPSIS_Score'], color='skyblue')\n",
    "plt.xlabel('Sample Index')\n",
    "plt.ylabel('TOPSIS Score')\n",
    "plt.title('TOPSIS Scores of Samples')\n",
    "plt.xticks(range(1, len(data) + 1))\n",
    "plt.grid(True)\n",
    "plt.tight_layout()\n",
    "plt.savefig('topsis_scores.png', format='png', dpi=300)\n",
    "plt.show()\n",
    " \n",
    "print(\"数据已处理并保存至:\", output_path)\n",
    "print(\"条形图已保存至 topsis_scores.png\")\n",
    "print(\"权重是：\")\n",
    "for col, weight in weights_series.items():\n",
    "    print(f'{col}: {weight}')"
   ]
  }
 ],
 "metadata": {
  "kernelspec": {
   "display_name": "base",
   "language": "python",
   "name": "python3"
  },
  "language_info": {
   "codemirror_mode": {
    "name": "ipython",
    "version": 3
   },
   "file_extension": ".py",
   "mimetype": "text/x-python",
   "name": "python",
   "nbconvert_exporter": "python",
   "pygments_lexer": "ipython3",
   "version": "3.6.5"
  }
 },
 "nbformat": 4,
 "nbformat_minor": 2
}
