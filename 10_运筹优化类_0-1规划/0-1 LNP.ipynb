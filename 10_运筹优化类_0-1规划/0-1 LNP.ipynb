{
 "cells": [
  {
   "cell_type": "code",
   "execution_count": 8,
   "metadata": {},
   "outputs": [
    {
     "name": "stdout",
     "output_type": "stream",
     "text": [
      "A,B,C三图分别通关次数为:\n",
      "17 0 3\n",
      "总体经验值为: 460\n"
     ]
    }
   ],
   "source": [
    "# 游戏\n",
    "\n",
    "from pulp import LpMaximize, LpProblem, LpVariable, lpSum, value\n",
    "#pulp库是用python语言实现的线性规划、整数规划、求解器、优化器的集合。\n",
    "#LpMaximize表示目标方向为最大化，LpProblem表示建立一个线性规划问题，LpVariable表示决策变量，lpSum表示求和函数,value()函数用于求解变量的值。\n",
    "\n",
    "# 创建一个最大化问题\n",
    "problem=LpProblem(\"Maximize_Experience\",LpMaximize)  # 定义问题,包括问题名和目标方向\n",
    "\n",
    "# 定义决策变量\n",
    "x1=LpVariable('x1',lowBound=0,cat='Integer') #A图通关次数,cat='Integer'表示变量只能取整数值\n",
    "x2=LpVariable('x2',lowBound=0,cat='Integer') #B图通关次数\n",
    "x3=LpVariable('x3',lowBound=0,cat='Integer') #C图通关次数\n",
    "\n",
    "# 定义目标函数\n",
    "problem+=20*x1+30*x2+40*x3, \"Total_Experience\"\n",
    "\n",
    "# 添加约束条件\n",
    "problem+=4*x1+8*x2+10*x3<=100,\"Resource_Constraint\"\n",
    "problem+=x1+x2+x3<=20,'Time_Constraint'\n",
    "\n",
    "# 解决问题\n",
    "problem.solve()\n",
    "\n",
    "# 输出结果\n",
    "print(\"A,B,C三图分别通关次数为:\")\n",
    "print(int(value(x1)),int(value(x2)),int(value(x3)))# value()函数用于求解变量的值\n",
    "\n",
    "print(\"总体经验值为:\",int(value(problem.objective)))# problem.objective表示目标函数的值\n"
   ]
  },
  {
   "cell_type": "code",
   "execution_count": 9,
   "metadata": {},
   "outputs": [
    {
     "name": "stdout",
     "output_type": "stream",
     "text": [
      "Requirement already satisfied: pulp in d:\\download\\anaconda\\anaconda\\lib\\site-packages (2.9.0)\n",
      "Note: you may need to restart the kernel to use updated packages.\n"
     ]
    }
   ],
   "source": [
    "%pip install pulp\n"
   ]
  },
  {
   "cell_type": "code",
   "execution_count": 16,
   "metadata": {},
   "outputs": [
    {
     "name": "stdout",
     "output_type": "stream",
     "text": [
      "[x1, x2, x3, x4, x5, x6, x7, x8, x9, x10]\n",
      "x1\n",
      "x2\n",
      "选中的物品是:(1代表选中，0代表不选中)\n",
      "[1, 1, 0, 1, 0, 1, 1, 1, 1, 1]\n",
      "最大利润为: 2410.0\n"
     ]
    }
   ],
   "source": [
    "# 背包问题\n",
    "from pulp import LpMaximize, LpProblem, LpVariable, lpSum, value\n",
    "\n",
    "# 创建最大化问题\n",
    "problem=LpProblem(\"Knapsack_Problem\",LpMaximize)\n",
    "\n",
    "# 定义目标函数系数(利润)\n",
    "profit=[540,200,180,350,60,150,280,450,320,120]\n",
    "\n",
    "# 定义约束系数(重量)\n",
    "weights=[6,3,4,5,1,2,3,5,4,2]\n",
    "max_weight=30\n",
    "\n",
    "# 定义决策变量(0-1变量)\n",
    "x=[LpVariable(f\"x{i+1}\",cat='Binary') for i in range(10)]# 索引,建立了列表x，元素为LpVariable对象\n",
    "problem+=lpSum(profit[i]*x[i] for i in range(10)),'Total_Profit'\n",
    "print(x)\n",
    "print(x[0])\n",
    "print(x[1])\n",
    "\n",
    "# 添加约束条件\n",
    "problem+=lpSum(weights[i]*x[i] for i in range(10))<=max_weight,'Weight_Constraint'\n",
    "\n",
    "# 求解问题\n",
    "problem.solve()\n",
    "\n",
    "# 输出结果\n",
    "print('选中的物品是:(1代表选中，0代表不选中)')\n",
    "selected_items=[int(value(x[i])) for i in range(10)]\n",
    "print(selected_items)\n",
    "print('最大利润为:',value(problem.objective))"
   ]
  },
  {
   "cell_type": "code",
   "execution_count": 23,
   "metadata": {},
   "outputs": [
    {
     "name": "stdout",
     "output_type": "stream",
     "text": [
      "分配结果(0表示不分配，1表示分配)\n",
      "[0, 0, 0, 1, 1, 0, 0, 0, 0, 0, 0, 1, 0, 0, 1, 0, 0, 1, 0, 0]\n",
      "最小总时间: 315.8\n",
      "分配结果矩阵形式:\n",
      "[[0 0 0 1 1]\n",
      " [0 0 0 0 0]\n",
      " [0 1 0 0 1]\n",
      " [0 0 1 0 0]]\n"
     ]
    }
   ],
   "source": [
    "# 指派\n",
    "from pulp import LpMaximize, LpProblem, LpVariable, lpSum, value\n",
    "\n",
    "# 创建问题\n",
    "problem=LpProblem(\"0-1 LNP\",LpMaximize)\n",
    "\n",
    "# 定义目标函数系数(泳姿时间)\n",
    "c=[66.8,75.6,87,58.6,57.2,66,66.4,53,78,67.8,84.6,59.4,\n",
    "   70,74.2,69.6,57.2,67.4,71,83.8,62.4]\n",
    "\n",
    "# 定义变量\n",
    "x=[LpVariable(f\"x{i+1}\",cat='Integer') for i in range(20)]\n",
    "\n",
    "# 定义目标函数(最小化总时间)\n",
    "problem+=lpSum(c[i]*x[i] for i in range(20)),'Total_Time'\n",
    "\n",
    "# 添加不等式约束\n",
    "A=[\n",
    "    [1,1,1,1,0,0,0,0,0,0,0,0,0,0,0,0,0,0,0,0],\n",
    "    [0,0,0,0,1,1,1,1,0,0,0,0,0,0,0,0,0,0,0,0],\n",
    "    [0,0,0,0,0,0,0,0,1,1,1,1,0,0,0,0,0,0,0,0],\n",
    "    [0,0,0,0,0,0,0,0,0,0,0,0,1,1,1,1,0,0,0,0],\n",
    "    [0,0,0,0,0,0,0,0,0,0,0,0,0,0,0,0,1,1,1,1],\n",
    "]\n",
    "b=[1,1,1,1,1]\n",
    "for i in range(len(A)):\n",
    "    problem+=lpSum(A[i][j]*x[j] for j in range(20))<=b[i],f\"Person_Constraint_{i+1}\"\n",
    "\n",
    "# 添加等式约束\n",
    "Aeq=[\n",
    "    [1,0,0,0,1,0,0,0,1,0,0,0,1,0,0,0,1,0,0,0],\n",
    "    [0,1,0,0,0,1,0,0,0,1,0,0,0,1,0,0,0,1,0,0],\n",
    "    [0,0,1,0,0,0,1,0,0,1,0,0,0,0,1,0,0,0,1,0],\n",
    "    [0,0,0,1,0,0,0,1,0,0,1,0,0,0,0,1,0,0,0,1],\n",
    "]\n",
    "beq=[1,1,1,1]\n",
    "for i in range(len(Aeq)):\n",
    "    problem+=lpSum(Aeq[i][j]*x[j] for j in range(20))==beq[i],f\"Person_Equality_Constraint_{i+1}\"\n",
    "\n",
    "# 求解\n",
    "problem.solve()\n",
    "\n",
    "# 输出结果\n",
    "print('分配结果(0表示不分配，1表示分配)')\n",
    "assignment=[int(value(x[i])) for i in range(20)]\n",
    "print(assignment)\n",
    "print('最小总时间:',value(problem.objective))\n",
    "\n",
    "\n",
    "# 输出结果重塑为矩阵形式\n",
    "import numpy as np\n",
    "assignment_matrix=np.array(assignment).reshape(4,5)\n",
    "print('分配结果矩阵形式:')\n",
    "print(assignment_matrix)\n"
   ]
  }
 ],
 "metadata": {
  "kernelspec": {
   "display_name": "base",
   "language": "python",
   "name": "python3"
  },
  "language_info": {
   "codemirror_mode": {
    "name": "ipython",
    "version": 3
   },
   "file_extension": ".py",
   "mimetype": "text/x-python",
   "name": "python",
   "nbconvert_exporter": "python",
   "pygments_lexer": "ipython3",
   "version": "3.12.7"
  }
 },
 "nbformat": 4,
 "nbformat_minor": 2
}
