{
 "cells": [
  {
   "cell_type": "markdown",
   "metadata": {},
   "source": [
    "result=linprog(c, A_ub, b_ub, A_eq, b_eq, bounds,method)\n",
    "c-目标函数系数\n",
    "A_ub-不等式约束矩阵\n",
    "b_ub-不等式约束右端常数\n",
    "A_eq-等式约束矩阵\n",
    "b_eq-等式约束右端常数\n",
    "bounds-变量的上下界\n",
    "method-求解方法,默认为highs\n",
    "result-线性规划的解,包括status,fun,x,slack,con,success,调用时用result.x表示变量的最优解等等"
   ]
  },
  {
   "cell_type": "code",
   "execution_count": 3,
   "metadata": {},
   "outputs": [
    {
     "name": "stdout",
     "output_type": "stream",
     "text": [
      "        message: Optimization terminated successfully. (HiGHS Status 7: Optimal)\n",
      "        success: True\n",
      "         status: 0\n",
      "            fun: -450.0\n",
      "              x: [ 1.500e+01  5.000e+00  0.000e+00]\n",
      "            nit: 2\n",
      "          lower:  residual: [ 1.500e+01  5.000e+00  0.000e+00]\n",
      "                 marginals: [ 0.000e+00  0.000e+00  2.500e+00]\n",
      "          upper:  residual: [       inf        inf        inf]\n",
      "                 marginals: [ 0.000e+00  0.000e+00  0.000e+00]\n",
      "          eqlin:  residual: []\n",
      "                 marginals: []\n",
      "        ineqlin:  residual: [ 0.000e+00  0.000e+00]\n",
      "                 marginals: [-2.500e+00 -1.000e+01]\n",
      " mip_node_count: 0\n",
      " mip_dual_bound: 0.0\n",
      "        mip_gap: 0.0\n",
      "A,B,C三图分别通关的次数为:\n",
      "[15.  5.  0.]\n",
      "最终获得经验值为:\n",
      "450.0\n"
     ]
    }
   ],
   "source": [
    "#\n",
    "import numpy as np\n",
    "from scipy.optimize import linprog\n",
    "\n",
    "# 目标函数,取负值是因为linprog默认求最小值优化\n",
    "c=[-20,-30,-45]\n",
    "\n",
    "# 不等式约束的系数矩阵\n",
    "A_ub=[[4,8,15],\n",
    "      [1,1,1]]\n",
    "\n",
    "# 不等式约束的右侧值向量B\n",
    "b_ub=[100,20]\n",
    "#定义域\n",
    "bounds=[[0,None],[0,None],[0,None]]\n",
    "\n",
    "#求解线性规划问题:\n",
    "# 注意:由于Linprog默认求最小值优化,所以目标函数取负值\n",
    "result=linprog(c,A_ub,b_ub,bounds=bounds)\n",
    "print(result)\n",
    "# 输出结果:\n",
    "print('A,B,C三图分别通关的次数为:')\n",
    "print(result.x)\n",
    "\n",
    "#目标函数的最大值是最小值相反数\n",
    "y=-result.fun\n",
    "print(\"最终获得经验值为:\")\n",
    "print(y)"
   ]
  },
  {
   "cell_type": "code",
   "execution_count": 1,
   "metadata": {},
   "outputs": [
    {
     "data": {
      "image/png": "[encoded data removed]",
      "text/plain": [
       "<Figure size 640x480 with 1 Axes>"
      ]
     },
     "metadata": {},
     "output_type": "display_data"
    }
   ],
   "source": [
    "# 投资收益\n",
    "import numpy as np\n",
    "from scipy.optimize import linprog\n",
    "from numpy import ones,diag,c_,zeros #用于创建和操作数组\n",
    "# ones创建一个全1数组,diag创建对角矩阵,c_合并数组,zeros创建一个全0数组作为第一列\n",
    "import matplotlib.pyplot as plt\n",
    "\n",
    "# 设置matplotlib的参数使之支持latex文本和字体大小\n",
    "\n",
    "# plt.rc('text',usetex=True)\n",
    "# plt.rc('font',size=16)\n",
    "\n",
    "# 定义目标函数\n",
    "c=[-0.05,-0.27,-0.19,-0.185,-0.185]\n",
    "\n",
    "# 线性不等式约束的系数矩阵\n",
    "# 使用c_来合并数组,zeros创建一个全0数组作为第一列,diag创建对角矩阵\n",
    "A=c_[zeros(4),diag([0.025,0.015,0.055,0.026])]\n",
    "\n",
    "# 线性等式约束的系数矩阵和右侧的值\n",
    "Aeq=[[1,1.01,1.02,1.045,1.065]]\n",
    "beq=[1]\n",
    "\n",
    "# 初始化参数a,以及两个用于存储结果的空列表\n",
    "a=0\n",
    "aa=[]\n",
    "ss=[]\n",
    "\n",
    "# 循环,a的值从0开始,以0.001的步长增加,直到0.05\n",
    "while a<0.05:\n",
    "    #创建线性不等式约束的右侧值(b)\n",
    "    b=ones(4)*a\n",
    "\n",
    "    #执行线性规划,得到最优解\n",
    "    res=linprog(c,A_ub=A,b_ub=b,A_eq=Aeq,b_eq=beq,bounds=[(0,None),(0,None),(0,None),(0,None),(0,None)])\n",
    "\n",
    "    # 提取线性规划的解向量x和最优解Q\n",
    "    x=res.x\n",
    "    Q=-res.fun\n",
    "\n",
    "    # 将当前的a值与对应的最优值Q存入列表\n",
    "    aa.append(a)\n",
    "    ss.append(Q)\n",
    "\n",
    "    # 计算新的a值\n",
    "    a+=0.001\n",
    "\n",
    "# 绘制结果,a值和最优值Q的关系图\n",
    "plt.plot(aa,ss,'r*')#红色星号表示最优解\n",
    "# plt.xlabel('$a$')\n",
    "# plt.ylabel('$Q$',rotation=90)\n",
    "\n",
    "# 显示图形\n",
    "plt.show()\n",
    "\n",
    "\n",
    "\n",
    "\n",
    "\n"
   ]
  },
  {
   "cell_type": "code",
   "execution_count": 4,
   "metadata": {},
   "outputs": [
    {
     "name": "stdout",
     "output_type": "stream",
     "text": [
      "[1 2 3 4]\n"
     ]
    }
   ],
   "source": [
    "import numpy as np\n",
    "\n",
    "arr=np.array([1,2,3])\n",
    "new_arr=np.append(arr,4)\n",
    "print(new_arr)"
   ]
  }
 ],
 "metadata": {
  "kernelspec": {
   "display_name": "base",
   "language": "python",
   "name": "python3"
  },
  "language_info": {
   "codemirror_mode": {
    "name": "ipython",
    "version": 3
   },
   "file_extension": ".py",
   "mimetype": "text/x-python",
   "name": "python",
   "nbconvert_exporter": "python",
   "pygments_lexer": "ipython3",
   "version": "3.12.7"
  }
 },
 "nbformat": 4,
 "nbformat_minor": 2
}
