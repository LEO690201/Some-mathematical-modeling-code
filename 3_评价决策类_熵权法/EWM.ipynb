{
 "cells": [
  {
   "cell_type": "code",
   "execution_count": 3,
   "metadata": {},
   "outputs": [],
   "source": [
    "import numpy as np\n",
    "\n",
    "#定义一个mylog函数,用于计算log值\n",
    "def mylog(p):\n",
    "    n=len(p)\n",
    "    lnp=np.zeros(n)\n",
    "    for i in range(n):\n",
    "        if p[i]==0:\n",
    "            lnp[i]=0\n",
    "        else:\n",
    "            lnp[i]=np.log(p[i])\n",
    "    return lnp"
   ]
  },
  {
   "cell_type": "code",
   "execution_count": 4,
   "metadata": {},
   "outputs": [
    {
     "name": "stdout",
     "output_type": "stream",
     "text": [
      "标准化矩阵Z= \n",
      "[[0.66896473 0.         0.         0.        ]\n",
      " [0.59463532 0.3939193  0.97618706 0.4472136 ]\n",
      " [0.44597649 0.91914503 0.21693046 0.89442719]]\n",
      "指标熵权W= \n",
      "[0.00856537 0.30716152 0.39326471 0.2910084 ]\n",
      "加权指标矩阵Y=\n",
      "[[0.00572993 0.         0.         0.        ]\n",
      " [0.00509327 0.12099685 0.38389992 0.13014291]\n",
      " [0.00381996 0.28232598 0.08531109 0.26028583]]\n",
      "各个指标的加权值:\n",
      "[0.00572993 0.64013295 0.63174286]\n"
     ]
    }
   ],
   "source": [
    "#定义指标矩阵\n",
    "X=np.array([[9,0,0,0],[8,3,0.9,0.5],[6,7,0.2,1]])\n",
    "\n",
    "#对矩阵X进行标准化处理,得到标准化矩阵Z\n",
    "Z=X/np.sqrt(np.sum(X*X,axis=0))\n",
    "\n",
    "print(\"标准化矩阵Z= \")\n",
    "print(Z)\n",
    "\n",
    "#计算熵权所需变量和矩阵初始化\n",
    "n,m=Z.shape  #n为样本数,m为指标数\n",
    "D=np.zeros(m)  #初始化一个长度为m的数组D,用于保存每个指标点信息效用值\n",
    "\n",
    "#计算每个指标的信息效用值\n",
    "for i in range(m):\n",
    "    x=Z[:,i]  #获取Z的第i列,即第i个指标的所有数据\n",
    "    p=x/np.sum(x)  #计算第i个指标的概率分布\n",
    "    e=-np.sum(p*mylog(p))/np.log(n)   #计算信息熵e\n",
    "    D[i]=1-e  \n",
    "\n",
    "W=D/np.sum(D)  #将信息效用值D归一化,得到个指标熵权\n",
    "\n",
    "print(\"指标熵权W= \")\n",
    "print(W)\n",
    "\n",
    "Y = Z * np.tile(W, (n, 1))\n",
    "print('加权指标矩阵Y=')\n",
    "print(Y)\n",
    "\n",
    "# 求和，得到各个指标的加权值\n",
    "weighted_sums = np.sum(Y, axis=1)\n",
    "print('各个指标的加权值:')\n",
    "print(weighted_sums)\n"
   ]
  }
 ],
 "metadata": {
  "kernelspec": {
   "display_name": "base",
   "language": "python",
   "name": "python3"
  },
  "language_info": {
   "codemirror_mode": {
    "name": "ipython",
    "version": 3
   },
   "file_extension": ".py",
   "mimetype": "text/x-python",
   "name": "python",
   "nbconvert_exporter": "python",
   "pygments_lexer": "ipython3",
   "version": "3.6.5"
  }
 },
 "nbformat": 4,
 "nbformat_minor": 2
}
