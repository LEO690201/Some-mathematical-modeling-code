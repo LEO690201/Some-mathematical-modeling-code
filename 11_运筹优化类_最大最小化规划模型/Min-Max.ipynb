{
 "cells": [
  {
   "cell_type": "code",
   "execution_count": 1,
   "metadata": {},
   "outputs": [],
   "source": [
    "import numpy as np\n",
    "from scipy.optimize import minimize\n",
    "\n",
    "# 目标函数,对应matlab中的Fun函数\n",
    "def fun(x):\n",
    "    a=np.array([1,4,3,5,9,12,6,20,17,8])\n",
    "    b=np.array([2,10,8,18,1,4,5,10,8,9])\n",
    "    f=np.zeros(10)\n",
    "    for i in range(10):\n",
    "        f[i]=np.abs(x[0]-a[i])+np.abs(x[1]-b[i])\n",
    "        return f\n",
    "    \n",
    "# 总的目标函数,取目标函数值数组中的最大值,模拟fminimax的目标\n",
    "def overall_fun(x):\n",
    "    return np.max(fun(x))"
   ]
  }
 ],
 "metadata": {
  "kernelspec": {
   "display_name": "base",
   "language": "python",
   "name": "python3"
  },
  "language_info": {
   "codemirror_mode": {
    "name": "ipython",
    "version": 3
   },
   "file_extension": ".py",
   "mimetype": "text/x-python",
   "name": "python",
   "nbconvert_exporter": "python",
   "pygments_lexer": "ipython3",
   "version": "3.12.7"
  }
 },
 "nbformat": 4,
 "nbformat_minor": 2
}
